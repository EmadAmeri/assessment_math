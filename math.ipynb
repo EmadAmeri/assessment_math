import pandas as pd

# Load the uploaded data file
data_path = r'C:\Users\emad\Desktop\assessment_math\asss.csv'


data = pd.read_csv(data_path)

# Display the first few rows of the dataframe to understand its structure
data.head()
